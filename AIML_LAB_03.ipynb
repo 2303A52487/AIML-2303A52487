{
  "nbformat": 4,
  "nbformat_minor": 0,
  "metadata": {
    "colab": {
      "provenance": [],
      "authorship_tag": "ABX9TyNuN82w0Lj1H9EaV6o+akaq",
      "include_colab_link": true
    },
    "kernelspec": {
      "name": "python3",
      "display_name": "Python 3"
    },
    "language_info": {
      "name": "python"
    }
  },
  "cells": [
    {
      "cell_type": "markdown",
      "metadata": {
        "id": "view-in-github",
        "colab_type": "text"
      },
      "source": [
        "<a href=\"https://colab.research.google.com/github/2303A52487/AIML-2303A52487/blob/main/AIML_LAB_03.ipynb\" target=\"_parent\"><img src=\"https://colab.research.google.com/assets/colab-badge.svg\" alt=\"Open In Colab\"/></a>"
      ]
    },
    {
      "cell_type": "code",
      "execution_count": null,
      "metadata": {
        "id": "iy_L3D9FeXNN"
      },
      "outputs": [],
      "source": [
        "from copy import deepcopy\n",
        "import numpy as np\n",
        "import time"
      ]
    },
    {
      "cell_type": "code",
      "source": [
        "def bestsolution(state):\n",
        "    bestsol = np.array([], int).reshape(-1, 9)\n",
        "    count = len(state) - 1\n",
        "    while count != -1:\n",
        "        bestsol = np.insert(bestsol, 0, state[count]['puzzle'], 0)\n",
        "        count = state[count]['parent']\n",
        "    return bestsol.reshape(-1, 3, 3)"
      ],
      "metadata": {
        "id": "wr06ZY8ze6Pa"
      },
      "execution_count": null,
      "outputs": []
    },
    {
      "cell_type": "code",
      "source": [
        "def is_unique(state, openstates):\n",
        "    for s in state:\n",
        "        if np.array_equal(s['puzzle'], openstates):\n",
        "            return False\n",
        "    return True"
      ],
      "metadata": {
        "id": "Jm_1nOzxe9SS"
      },
      "execution_count": null,
      "outputs": []
    },
    {
      "cell_type": "code",
      "source": [
        "def misplaced_tiles(puzzle, goal):\n",
        "    mscost = np.sum(puzzle != goal) - 1\n",
        "    return mscost if mscost > 0 else 0\n",
        "\n",
        "def coordinates(puzzle):\n",
        "    pos = np.array(range(9))\n",
        "    for p, q in enumerate(puzzle):\n",
        "        pos[q] = p\n",
        "    return pos"
      ],
      "metadata": {
        "id": "UTBX6IfAfAtX"
      },
      "execution_count": null,
      "outputs": []
    },
    {
      "source": [
        "def evaluvate_misplaced(puzzle, goal):\n",
        "    steps = np.array([('up', [0, 1, 2], -3),\n",
        "                      ('down', [6, 7, 8], 3),\n",
        "                      ('left', [0, 3, 6], -1),\n",
        "                      ('right', [2, 5, 8], 1)],\n",
        "                     dtype=[('move', 'U5'), ('position', list), ('head', int)])\n",
        "    dtstate = [('puzzle', list), ('parent', int), ('gn', int), ('hn', int)]\n",
        "    costg = coordinates(goal)\n",
        "\n",
        "    parent = -1\n",
        "    gn = 0\n",
        "    hn = misplaced_tiles(coordinates(puzzle), costg)\n",
        "    state = np.array([(puzzle, parent, gn, hn)], dtstate)\n",
        "    dtpriority = [('position', int), ('fn', int)]\n",
        "    priority = np.array([(0, hn)], dtpriority)\n",
        "    start_time = time.time()\n",
        "\n",
        "    while True:\n",
        "        priority = np.sort(priority, kind='mergesort', order=['fn', 'position'])\n",
        "        position, fn = priority[0]\n",
        "\n",
        "        priority = np.delete(priority, 0, 0)\n",
        "        puzzle, parent, gn, hn = state[position]\n",
        "        puzzle = np.array(puzzle)\n",
        "\n",
        "        blank = int(np.where(puzzle == 0)[0])\n",
        "\n",
        "        gn += 1\n",
        "        for s in steps:\n",
        "            if blank not in s['position']:\n",
        "                openstates = deepcopy(puzzle)\n",
        "                openstates[blank], openstates[blank + s['head']] = openstates[blank + s['head']], openstates[blank]\n",
        "\n",
        "                if is_unique(state, openstates):\n",
        "                    hn = misplaced_tiles(coordinates(openstates), costg)\n",
        "\n",
        "                    q = np.array([(openstates, position, gn, hn)], dtstate)\n",
        "                    state = np.append(state, q, 0)\n",
        "\n",
        "                    fn = gn + hn\n",
        "\n",
        "                    q = np.array([(len(state) - 1, fn)], dtpriority)\n",
        "                    priority = np.append(priority, q, 0)\n",
        "\n",
        "                    if np.array_equal(openstates, goal):\n",
        "                        print('The 8 puzzle is solvable \\n')\n",
        "                        return state, len(priority)\n",
        "\n",
        "                end_time = time.time()\n",
        "                if (end_time - start_time) > 2:\n",
        "                    print(\"The 8 puzzle is unsolvable \\n\")\n",
        "                    return state, len(priority)\n",
        "\n",
        "    return state, len(priority)"
      ],
      "cell_type": "code",
      "metadata": {
        "id": "EsuPjPjjg91B"
      },
      "execution_count": null,
      "outputs": []
    },
    {
      "cell_type": "code",
      "source": [
        "puzzle = [4, 1, 5, 3, 0, 7, 8, 6, 2]\n",
        "\n",
        "goal = [1, 2, 3, 4, 5, 6, 7, 8, 0]\n"
      ],
      "metadata": {
        "id": "ZFRctsUKhJh-"
      },
      "execution_count": null,
      "outputs": []
    },
    {
      "cell_type": "code",
      "source": [
        "state, visited = evaluvate_misplaced(puzzle, goal)\n",
        "bestpath = bestsolution(state)\n",
        "print(str(bestpath).replace('[', ' ').replace(']', ''))\n",
        "totalmoves = len(bestpath) - 1\n",
        "print('\\nSteps to reach goal:', totalmoves)\n",
        "visit = len(state) - visited\n",
        "print('Total nodes visited: ', visit, \"\\n\")"
      ],
      "metadata": {
        "colab": {
          "base_uri": "https://localhost:8080/"
        },
        "id": "ZA19M4SmhMqp",
        "outputId": "0da174cc-623d-4054-9407-1e3d7002213e"
      },
      "execution_count": null,
      "outputs": [
        {
          "output_type": "stream",
          "name": "stderr",
          "text": [
            "<ipython-input-13-82a03b727177>:26: DeprecationWarning: Conversion of an array with ndim > 0 to a scalar is deprecated, and will error in future. Ensure you extract a single element from your array before performing this operation. (Deprecated NumPy 1.25.)\n",
            "  blank = int(np.where(puzzle == 0)[0])\n"
          ]
        },
        {
          "output_type": "stream",
          "name": "stdout",
          "text": [
            "The 8 puzzle is unsolvable \n",
            "\n",
            "   4 1 5\n",
            "   3 0 7\n",
            "   8 6 2\n",
            "\n",
            "   4 0 5\n",
            "   3 1 7\n",
            "   8 6 2\n",
            "\n",
            "   4 5 0\n",
            "   3 1 7\n",
            "   8 6 2\n",
            "\n",
            "   4 5 7\n",
            "   3 1 0\n",
            "   8 6 2\n",
            "\n",
            "   4 5 7\n",
            "   3 1 2\n",
            "   8 6 0\n",
            "\n",
            "   4 5 7\n",
            "   3 1 2\n",
            "   8 0 6\n",
            "\n",
            "   4 5 7\n",
            "   3 1 2\n",
            "   0 8 6\n",
            "\n",
            "   4 5 7\n",
            "   0 1 2\n",
            "   3 8 6\n",
            "\n",
            "   4 5 7\n",
            "   1 0 2\n",
            "   3 8 6\n",
            "\n",
            "   4 0 7\n",
            "   1 5 2\n",
            "   3 8 6\n",
            "\n",
            "   0 4 7\n",
            "   1 5 2\n",
            "   3 8 6\n",
            "\n",
            "   1 4 7\n",
            "   0 5 2\n",
            "   3 8 6\n",
            "\n",
            "   1 4 7\n",
            "   5 0 2\n",
            "   3 8 6\n",
            "\n",
            "Steps to reach goal: 12\n",
            "Total nodes visited:  622 \n",
            "\n"
          ]
        }
      ]
    }
  ]
}